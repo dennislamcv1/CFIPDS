{
 "cells": [
  {
   "cell_type": "markdown",
   "id": "e6bb4534",
   "metadata": {},
   "source": [
    "# Classification Algorithms - Attrition Prediction Student Notebook\n",
    "\n",
    "In this exercise we will work on the subset of the the synthetic [IBM HR Employees Attrition dataset](https://www.kaggle.com/janiobachmann/attrition-in-an-organization-why-workers-quit/data?select=WA_Fn-UseC_-HR-Employee-Attrition.csv).                                                                                                       \n",
    "\n",
    "The dataset gives information about the employees in the organization and the target variable (Y) is Attrition, which tells whether an employee was replaced or not.  We will look at the variables and different factors that affect employee performance, including factors like work from home sitaution, job role, monthly income etc.\n",
    "# Importing the libraries and datasets"
   ]
  },
  {
   "cell_type": "markdown",
   "id": "46a44729",
   "metadata": {},
   "source": [
    "First we should import the required libraries and the dataset"
   ]
  },
  {
   "cell_type": "code",
   "execution_count": 1,
   "id": "848622db",
   "metadata": {},
   "outputs": [],
   "source": [
    "#Basics\n",
    "import pandas as pd\n",
    "import numpy as np\n",
    "\n",
    "#Visualization\n",
    "import matplotlib.pyplot as plt\n",
    "import seaborn as sns\n",
    "\n",
    "#SkLearn ML General\n",
    "\n",
    "\n",
    "#SkLearn ML Algorithms\n",
    "\n"
   ]
  },
  {
   "cell_type": "markdown",
   "id": "9b75adf4",
   "metadata": {},
   "source": [
    "The original dataset contains around 35 feature variables. We will be using a subset of that and use 14 features in this exercise."
   ]
  },
  {
   "cell_type": "code",
   "execution_count": 3,
   "id": "30d4b471",
   "metadata": {},
   "outputs": [],
   "source": [
    "#Import Data Subset from HREmployeeData.csv\n"
   ]
  },
  {
   "cell_type": "markdown",
   "id": "cbbc308a",
   "metadata": {},
   "source": [
    "# Data Exploration\n",
    "\n",
    "We want to have a quick study of our dataset before we dive into the data analytics part. "
   ]
  },
  {
   "cell_type": "code",
   "execution_count": null,
   "id": "e966111e",
   "metadata": {
    "scrolled": false
   },
   "outputs": [],
   "source": [
    "#Descriptive stats for the dataset\n",
    "employee_data.describe()"
   ]
  },
  {
   "cell_type": "markdown",
   "id": "04cfffa5",
   "metadata": {},
   "source": [
    "We can have a look at the target variable (Attrition) using a histogram plot to see how frequently it's values occur in the data."
   ]
  },
  {
   "cell_type": "code",
   "execution_count": null,
   "id": "a9d92070",
   "metadata": {},
   "outputs": [],
   "source": [
    "#Plot a Histogram of the target variable\n",
    "employee_data.Attrition.value_counts().nlargest(40).plot(kind='bar', figsize=(10,5))\n",
    "plt.title('Attrition of Employees')\n",
    "plt.ylabel('Occurence of each in the dataset')\n",
    "plt.xlabel('Attrition')"
   ]
  },
  {
   "cell_type": "markdown",
   "id": "85266418",
   "metadata": {},
   "source": [
    "# Predictive Modelling"
   ]
  },
  {
   "cell_type": "markdown",
   "id": "e2c34181",
   "metadata": {},
   "source": [
    "X will contain our independent feature variables and y is our target/outcome variable."
   ]
  },
  {
   "cell_type": "code",
   "execution_count": 5,
   "id": "115e5c58",
   "metadata": {},
   "outputs": [],
   "source": [
    "#Separate x_inputs from y_target variables\n"
   ]
  },
  {
   "cell_type": "markdown",
   "id": "5451a60e",
   "metadata": {},
   "source": [
    "### Test/Train Split\n",
    "\n",
    "Split the data into 50% training / testing and initialize each of the classifiers."
   ]
  },
  {
   "cell_type": "code",
   "execution_count": 6,
   "id": "eff0ad03",
   "metadata": {},
   "outputs": [],
   "source": [
    "#split the dataset into training and test sets\n"
   ]
  },
  {
   "cell_type": "code",
   "execution_count": null,
   "id": "5e1f2b16",
   "metadata": {},
   "outputs": [],
   "source": [
    "# Define the classifiers\n",
    "\n",
    "\n",
    "# Train the classifiers on the training set and test classifiers on unseen test data\n",
    "\n",
    "    "
   ]
  },
  {
   "cell_type": "markdown",
   "id": "9526a97a",
   "metadata": {},
   "source": [
    "# Evaluation Metrics\n",
    "We will use Accuracy, Precision, Recall and F₁ and F₂ score to evaluate our model's performance results using sklearn's metric library.. "
   ]
  },
  {
   "cell_type": "code",
   "execution_count": null,
   "id": "1f4c66d9",
   "metadata": {},
   "outputs": [],
   "source": [
    "#Print Evaluation Metrics: Accuracy, Precision, Recall, F1 and F2\n",
    "\n",
    "print(\"Accuracy Scores:\")\n",
    "\n",
    "\n",
    "print(\"\\nPrecision Scores:\")\n",
    "\n",
    "        \n",
    "print(\"\\nRecall Scores:\")\n",
    "\n",
    "\n",
    "print(\"\\nF₁ Scores:\")\n",
    "\n",
    "        \n",
    "print(\"\\nF₂ Scores:\")\n",
    "\n"
   ]
  },
  {
   "cell_type": "markdown",
   "id": "1d6e0ef9",
   "metadata": {},
   "source": [
    "Next, we can plot the results on a confusion matrix using [sklearn's plot_confusion_matrix function](https://scikit-learn.org/stable/modules/generated/sklearn.metrics.plot_confusion_matrix.html#sklearn.metrics.plot_confusion_matrix) as we saw in the lecture slides for a visual evaluation."
   ]
  },
  {
   "cell_type": "code",
   "execution_count": 2,
   "id": "a743a7ab",
   "metadata": {},
   "outputs": [],
   "source": [
    "#Display Confusion Matrix For Each Classifier\n"
   ]
  },
  {
   "cell_type": "markdown",
   "id": "f7bf4015",
   "metadata": {},
   "source": [
    "We can see that for both models, they predict mostly '0' label which is the 'Not Attritioned' in our dataset as most of our data was trained for class values '0'. Next we will plot the [ROC curve](https://scikit-learn.org/stable/modules/generated/sklearn.metrics.RocCurveDisplay.html#sklearn.metrics.RocCurveDisplay). ROC shows the results at different classification thresholds as seen on the curve."
   ]
  },
  {
   "cell_type": "markdown",
   "id": "1952c5a1",
   "metadata": {},
   "source": [
    "As we saw in the lecture what an ideal classifier looks like (closer to the True Positive Rate), we can see that the classifier in this case seems to be performing well."
   ]
  },
  {
   "cell_type": "code",
   "execution_count": 1,
   "id": "8d357f0a",
   "metadata": {},
   "outputs": [],
   "source": [
    "#Plot ROC Curve\n"
   ]
  },
  {
   "cell_type": "markdown",
   "id": "5d395335",
   "metadata": {},
   "source": [
    "## END OF NOTEBOOK"
   ]
  }
 ],
 "metadata": {
  "kernelspec": {
   "display_name": "Python 3 (ipykernel)",
   "language": "python",
   "name": "python3"
  },
  "language_info": {
   "codemirror_mode": {
    "name": "ipython",
    "version": 3
   },
   "file_extension": ".py",
   "mimetype": "text/x-python",
   "name": "python",
   "nbconvert_exporter": "python",
   "pygments_lexer": "ipython3",
   "version": "3.8.11"
  }
 },
 "nbformat": 4,
 "nbformat_minor": 5
}
